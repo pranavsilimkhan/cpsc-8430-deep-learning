{
 "cells": [
  {
   "cell_type": "code",
   "execution_count": 2,
   "id": "daa12f1f",
   "metadata": {},
   "outputs": [],
   "source": [
    "import numpy as np"
   ]
  },
  {
   "cell_type": "code",
   "execution_count": 3,
   "id": "5e70d38a",
   "metadata": {},
   "outputs": [],
   "source": [
    "import torch\n",
    "import matplotlib.pyplot as plt"
   ]
  },
  {
   "cell_type": "code",
   "execution_count": 4,
   "id": "2a37d525",
   "metadata": {},
   "outputs": [],
   "source": [
    "import torch.nn as nn\n",
    "import torchvision.datasets as dset\n",
    "import torchvision.transforms as transforms"
   ]
  },
  {
   "cell_type": "code",
   "execution_count": 5,
   "id": "b4ce4336",
   "metadata": {},
   "outputs": [],
   "source": [
    "import torch.nn.functional as F\n",
    "import torch.optim as optim"
   ]
  },
  {
   "cell_type": "code",
   "execution_count": 6,
   "id": "49f40234",
   "metadata": {},
   "outputs": [],
   "source": [
    "from torch.autograd import Variable"
   ]
  },
  {
   "cell_type": "code",
   "execution_count": 7,
   "id": "e312b79c",
   "metadata": {},
   "outputs": [],
   "source": [
    "folder = './data'\n",
    "trans = transforms.Compose([transforms.ToTensor(), transforms.Normalize((0.1307,), (0.3081,)), transforms.Resize((32, 32))])"
   ]
  },
  {
   "cell_type": "code",
   "execution_count": 8,
   "id": "dc4a31be",
   "metadata": {},
   "outputs": [
    {
     "name": "stdout",
     "output_type": "stream",
     "text": [
      "Downloading http://yann.lecun.com/exdb/mnist/train-images-idx3-ubyte.gz\n",
      "Downloading http://yann.lecun.com/exdb/mnist/train-images-idx3-ubyte.gz to ./data/MNIST/raw/train-images-idx3-ubyte.gz\n"
     ]
    },
    {
     "data": {
      "application/vnd.jupyter.widget-view+json": {
       "model_id": "277a2e5b13b94ede91e61aec7d4b462e",
       "version_major": 2,
       "version_minor": 0
      },
      "text/plain": [
       "  0%|          | 0/9912422 [00:00<?, ?it/s]"
      ]
     },
     "metadata": {},
     "output_type": "display_data"
    },
    {
     "name": "stdout",
     "output_type": "stream",
     "text": [
      "Extracting ./data/MNIST/raw/train-images-idx3-ubyte.gz to ./data/MNIST/raw\n",
      "\n",
      "Downloading http://yann.lecun.com/exdb/mnist/train-labels-idx1-ubyte.gz\n",
      "Downloading http://yann.lecun.com/exdb/mnist/train-labels-idx1-ubyte.gz to ./data/MNIST/raw/train-labels-idx1-ubyte.gz\n"
     ]
    },
    {
     "data": {
      "application/vnd.jupyter.widget-view+json": {
       "model_id": "c0d05800bb954fd0a59c9dcef89b7949",
       "version_major": 2,
       "version_minor": 0
      },
      "text/plain": [
       "  0%|          | 0/28881 [00:00<?, ?it/s]"
      ]
     },
     "metadata": {},
     "output_type": "display_data"
    },
    {
     "name": "stdout",
     "output_type": "stream",
     "text": [
      "Extracting ./data/MNIST/raw/train-labels-idx1-ubyte.gz to ./data/MNIST/raw\n",
      "\n",
      "Downloading http://yann.lecun.com/exdb/mnist/t10k-images-idx3-ubyte.gz\n",
      "Downloading http://yann.lecun.com/exdb/mnist/t10k-images-idx3-ubyte.gz to ./data/MNIST/raw/t10k-images-idx3-ubyte.gz\n"
     ]
    },
    {
     "data": {
      "application/vnd.jupyter.widget-view+json": {
       "model_id": "c3f9618d4ee8488394f89a31d887fe21",
       "version_major": 2,
       "version_minor": 0
      },
      "text/plain": [
       "  0%|          | 0/1648877 [00:00<?, ?it/s]"
      ]
     },
     "metadata": {},
     "output_type": "display_data"
    },
    {
     "name": "stdout",
     "output_type": "stream",
     "text": [
      "Extracting ./data/MNIST/raw/t10k-images-idx3-ubyte.gz to ./data/MNIST/raw\n",
      "\n",
      "Downloading http://yann.lecun.com/exdb/mnist/t10k-labels-idx1-ubyte.gz\n",
      "Downloading http://yann.lecun.com/exdb/mnist/t10k-labels-idx1-ubyte.gz to ./data/MNIST/raw/t10k-labels-idx1-ubyte.gz\n"
     ]
    },
    {
     "data": {
      "application/vnd.jupyter.widget-view+json": {
       "model_id": "4b9352da7b47418db8e00d7709545b66",
       "version_major": 2,
       "version_minor": 0
      },
      "text/plain": [
       "  0%|          | 0/4542 [00:00<?, ?it/s]"
      ]
     },
     "metadata": {},
     "output_type": "display_data"
    },
    {
     "name": "stdout",
     "output_type": "stream",
     "text": [
      "Extracting ./data/MNIST/raw/t10k-labels-idx1-ubyte.gz to ./data/MNIST/raw\n",
      "\n"
     ]
    }
   ],
   "source": [
    "# Download MNIST dataset\n",
    "train_set = dset.MNIST(root=folder, train=True, transform=trans, download=True)\n",
    "test_set = dset.MNIST(root=folder, train=False, transform=trans, download=True)"
   ]
  },
  {
   "cell_type": "code",
   "execution_count": 9,
   "id": "f71465b0",
   "metadata": {},
   "outputs": [],
   "source": [
    "def get_data(train_size, test_size):\n",
    "    train_data = torch.utils.data.DataLoader(\n",
    "                 dataset=train_set,\n",
    "                 batch_size=train_size,\n",
    "                 shuffle=True)\n",
    "    test_data = torch.utils.data.DataLoader(\n",
    "                dataset=test_set,\n",
    "                batch_size=test_size,\n",
    "                shuffle=True)\n",
    "    return (train_data, test_data)"
   ]
  },
  {
   "cell_type": "code",
   "execution_count": 12,
   "id": "eac2bfcc",
   "metadata": {},
   "outputs": [],
   "source": [
    "class Model_1(nn.Module):\n",
    "    def __init__(self):\n",
    "        super(Model_1, self).__init__()\n",
    "        \n",
    "        self.c1 = nn.Conv2d(1, 6, 5)\n",
    "        self.c2 = nn.Conv2d(6, 16, 5)\n",
    "        self.l1 = nn.Linear(16 * 5 * 5, 120)\n",
    "        self.l2 = nn.Linear(120, 84)\n",
    "        self.l3 = nn.Linear(84, 10)\n",
    "\n",
    "    def forward(self, x):\n",
    "        x = F.max_pool2d(F.relu(self.c1(x)), 2)\n",
    "        x = F.max_pool2d(F.relu(self.c2(x)), 2)\n",
    "        x = x.view(x.size()[0], -1)\n",
    "        x = F.relu(self.l1(x))\n",
    "        x = F.relu(self.l2(x))\n",
    "        x = self.l3(x)\n",
    "        \n",
    "        return x"
   ]
  },
  {
   "cell_type": "code",
   "execution_count": 13,
   "id": "e95ff9b4",
   "metadata": {},
   "outputs": [],
   "source": [
    "def train_model(model, loss_func, epoch, data, optimizer):\n",
    "    average_loss = 0\n",
    "    sample_size = 0\n",
    "    correct_predictions = 0\n",
    "    total_loss = 0\n",
    "    i=0\n",
    "    for batch_idx, (x, target) in enumerate(data):\n",
    "        i+=1\n",
    "        optimizer.zero_grad()\n",
    "        x, expected_out = Variable(x), Variable(target)\n",
    "        output = model(x)\n",
    "        loss = loss_func(output, expected_out)\n",
    "        loss.backward()\n",
    "        optimizer.step()\n",
    "        predicted_output = np.argmax(output.data, axis=1)\n",
    "        \n",
    "        sample_size = sample_size + target.size(0)\n",
    "        correct_predictions = correct_predictions + (predicted_output == expected_out).sum().item()\n",
    "        accuracy = 100.0 * correct_predictions / sample_size\n",
    "        total_loss = total_loss + loss.data\n",
    "        \n",
    "#         average_loss = average_loss * 0.9 + loss.data[0] * 0.1\n",
    "        if (batch_idx+1) % 150 == 0 or (batch_idx+1) == len(data):\n",
    "            print('Epoch: {}, batch index: {}, accuracy: {}, train loss: {:.6f}'.format(\n",
    "                epoch, batch_idx+1, round(accuracy, 2), loss.data))\n",
    "\n",
    "    total_loss = total_loss/i;\n",
    "    return total_loss, round(accuracy,2)"
   ]
  },
  {
   "cell_type": "code",
   "execution_count": 14,
   "id": "944672ed",
   "metadata": {},
   "outputs": [
    {
     "name": "stderr",
     "output_type": "stream",
     "text": [
      "[W NNPACK.cpp:51] Could not initialize NNPACK! Reason: Unsupported hardware.\n"
     ]
    },
    {
     "name": "stdout",
     "output_type": "stream",
     "text": [
      "Epoch: 1, batch index: 150, accuracy: 64.39, train loss: 0.170067\n",
      "Epoch: 1, batch index: 300, accuracy: 78.67, train loss: 0.149482\n",
      "Epoch: 1, batch index: 450, accuracy: 84.43, train loss: 0.196906\n",
      "Epoch: 1, batch index: 600, accuracy: 87.44, train loss: 0.087489\n",
      "Epoch: 1, batch index: 750, accuracy: 89.34, train loss: 0.031479\n",
      "Epoch: 1, batch index: 900, accuracy: 90.59, train loss: 0.070145\n",
      "Epoch: 1, batch index: 938, accuracy: 90.86, train loss: 0.174497\n",
      "Epoch: 2, batch index: 150, accuracy: 97.98, train loss: 0.075003\n",
      "Epoch: 2, batch index: 300, accuracy: 97.89, train loss: 0.032112\n",
      "Epoch: 2, batch index: 450, accuracy: 97.93, train loss: 0.065886\n",
      "Epoch: 2, batch index: 600, accuracy: 97.96, train loss: 0.051232\n",
      "Epoch: 2, batch index: 750, accuracy: 97.97, train loss: 0.048054\n",
      "Epoch: 2, batch index: 900, accuracy: 98.02, train loss: 0.057118\n",
      "Epoch: 2, batch index: 938, accuracy: 98.02, train loss: 0.081979\n",
      "Epoch: 3, batch index: 150, accuracy: 98.59, train loss: 0.058410\n",
      "Epoch: 3, batch index: 300, accuracy: 98.64, train loss: 0.014021\n",
      "Epoch: 3, batch index: 450, accuracy: 98.6, train loss: 0.051172\n",
      "Epoch: 3, batch index: 600, accuracy: 98.61, train loss: 0.071767\n",
      "Epoch: 3, batch index: 750, accuracy: 98.56, train loss: 0.069743\n",
      "Epoch: 3, batch index: 900, accuracy: 98.59, train loss: 0.055074\n",
      "Epoch: 3, batch index: 938, accuracy: 98.6, train loss: 0.002658\n",
      "Epoch: 4, batch index: 150, accuracy: 98.9, train loss: 0.027646\n",
      "Epoch: 4, batch index: 300, accuracy: 98.88, train loss: 0.009843\n",
      "Epoch: 4, batch index: 450, accuracy: 98.85, train loss: 0.046389\n",
      "Epoch: 4, batch index: 600, accuracy: 98.85, train loss: 0.020076\n",
      "Epoch: 4, batch index: 750, accuracy: 98.86, train loss: 0.051043\n",
      "Epoch: 4, batch index: 900, accuracy: 98.91, train loss: 0.005297\n",
      "Epoch: 4, batch index: 938, accuracy: 98.91, train loss: 0.003822\n",
      "Epoch: 5, batch index: 150, accuracy: 99.19, train loss: 0.014126\n",
      "Epoch: 5, batch index: 300, accuracy: 99.12, train loss: 0.002465\n",
      "Epoch: 5, batch index: 450, accuracy: 99.04, train loss: 0.092701\n",
      "Epoch: 5, batch index: 600, accuracy: 99.08, train loss: 0.003768\n",
      "Epoch: 5, batch index: 750, accuracy: 99.05, train loss: 0.051056\n",
      "Epoch: 5, batch index: 900, accuracy: 99.01, train loss: 0.001188\n",
      "Epoch: 5, batch index: 938, accuracy: 99.02, train loss: 0.000525\n",
      "Epoch: 6, batch index: 150, accuracy: 99.17, train loss: 0.062098\n",
      "Epoch: 6, batch index: 300, accuracy: 99.28, train loss: 0.005291\n",
      "Epoch: 6, batch index: 450, accuracy: 99.32, train loss: 0.010701\n",
      "Epoch: 6, batch index: 600, accuracy: 99.25, train loss: 0.001961\n",
      "Epoch: 6, batch index: 750, accuracy: 99.24, train loss: 0.006714\n",
      "Epoch: 6, batch index: 900, accuracy: 99.22, train loss: 0.059193\n",
      "Epoch: 6, batch index: 938, accuracy: 99.21, train loss: 0.049178\n",
      "Epoch: 7, batch index: 150, accuracy: 99.44, train loss: 0.004166\n",
      "Epoch: 7, batch index: 300, accuracy: 99.48, train loss: 0.003200\n",
      "Epoch: 7, batch index: 450, accuracy: 99.49, train loss: 0.050675\n",
      "Epoch: 7, batch index: 600, accuracy: 99.4, train loss: 0.006097\n",
      "Epoch: 7, batch index: 750, accuracy: 99.36, train loss: 0.012779\n",
      "Epoch: 7, batch index: 900, accuracy: 99.39, train loss: 0.006280\n",
      "Epoch: 7, batch index: 938, accuracy: 99.36, train loss: 0.000318\n",
      "Epoch: 8, batch index: 150, accuracy: 99.51, train loss: 0.004548\n",
      "Epoch: 8, batch index: 300, accuracy: 99.44, train loss: 0.016697\n",
      "Epoch: 8, batch index: 450, accuracy: 99.44, train loss: 0.000336\n",
      "Epoch: 8, batch index: 600, accuracy: 99.4, train loss: 0.000715\n",
      "Epoch: 8, batch index: 750, accuracy: 99.42, train loss: 0.003312\n",
      "Epoch: 8, batch index: 900, accuracy: 99.41, train loss: 0.010883\n",
      "Epoch: 8, batch index: 938, accuracy: 99.41, train loss: 0.001147\n",
      "Epoch: 9, batch index: 150, accuracy: 99.7, train loss: 0.003220\n",
      "Epoch: 9, batch index: 300, accuracy: 99.64, train loss: 0.006722\n",
      "Epoch: 9, batch index: 450, accuracy: 99.62, train loss: 0.007270\n",
      "Epoch: 9, batch index: 600, accuracy: 99.58, train loss: 0.009760\n",
      "Epoch: 9, batch index: 750, accuracy: 99.55, train loss: 0.028307\n",
      "Epoch: 9, batch index: 900, accuracy: 99.54, train loss: 0.000098\n",
      "Epoch: 9, batch index: 938, accuracy: 99.54, train loss: 0.058585\n",
      "Epoch: 10, batch index: 150, accuracy: 99.57, train loss: 0.000011\n",
      "Epoch: 10, batch index: 300, accuracy: 99.57, train loss: 0.000316\n",
      "Epoch: 10, batch index: 450, accuracy: 99.52, train loss: 0.000488\n",
      "Epoch: 10, batch index: 600, accuracy: 99.55, train loss: 0.000468\n",
      "Epoch: 10, batch index: 750, accuracy: 99.55, train loss: 0.017153\n",
      "Epoch: 10, batch index: 900, accuracy: 99.56, train loss: 0.005132\n",
      "Epoch: 10, batch index: 938, accuracy: 99.54, train loss: 0.035551\n"
     ]
    }
   ],
   "source": [
    "train_data, test_data = get_data(64, 1000)\n",
    "model = Model_1()\n",
    "optimizer = optim.SGD(model.parameters(), lr=0.01, momentum=0.9)\n",
    "loss_func = nn.CrossEntropyLoss()\n",
    "loss_arr = []\n",
    "accuracy_arr = []\n",
    "\n",
    "for epoch in range(1, 11):\n",
    "    loss, accuracy = train_model(model, loss_func, epoch, train_data, optimizer)\n",
    "    loss_arr.append(loss)\n",
    "    accuracy_arr.append(accuracy)"
   ]
  },
  {
   "cell_type": "markdown",
   "id": "79586690",
   "metadata": {},
   "source": [
    "<h3> Accuracy Plot <h3>"
   ]
  },
  {
   "cell_type": "code",
   "execution_count": 18,
   "id": "d0b308b3",
   "metadata": {},
   "outputs": [],
   "source": [
    "class Model_2(nn.Module):\n",
    "    def __init__(self):\n",
    "        super(Model_2, self).__init__()\n",
    "        self.c1 = nn.Conv2d(1, 32, 5)\n",
    "        self.c2 = nn.Conv2d(32, 64, 5)\n",
    "        self.c3 = nn.Conv2d(64, 64, 5)\n",
    "        self.l1 = nn.Linear(1024, 256)\n",
    "        self.l2 = nn.Linear(256, 10)\n",
    "    def forward(self, x):\n",
    "        x = F.relu(self.c1(x))\n",
    "        x = F.relu(F.max_pool2d(self.c2(x), 2))\n",
    "        x = F.dropout(x, p=0.5, training=self.training)\n",
    "        x = F.relu(F.max_pool2d(self.c3(x),2))\n",
    "        x = F.dropout(x, p=0.5, training=self.training)\n",
    "        x = x.view(x.size()[0], -1)\n",
    "        x = F.relu(self.l1(x))\n",
    "        x = F.dropout(x, training=self.training)\n",
    "        x = self.l2(x)\n",
    "        return F.log_softmax(x, dim=1)"
   ]
  },
  {
   "cell_type": "code",
   "execution_count": 19,
   "id": "30c876d9",
   "metadata": {},
   "outputs": [
    {
     "name": "stdout",
     "output_type": "stream",
     "text": [
      "New epoch\n",
      "Epoch: 1, batch index: 150, accuracy: 63.67, train loss: 0.459141\n",
      "Epoch: 1, batch index: 300, accuracy: 77.32, train loss: 0.268910\n",
      "Epoch: 1, batch index: 450, accuracy: 83.04, train loss: 0.257445\n",
      "Epoch: 1, batch index: 600, accuracy: 86.15, train loss: 0.079989\n",
      "Epoch: 1, batch index: 750, accuracy: 88.15, train loss: 0.102282\n",
      "Epoch: 1, batch index: 900, accuracy: 89.55, train loss: 0.093631\n",
      "Epoch: 1, batch index: 938, accuracy: 89.82, train loss: 0.048061\n",
      "New epoch\n",
      "Epoch: 2, batch index: 150, accuracy: 96.93, train loss: 0.056571\n",
      "Epoch: 2, batch index: 300, accuracy: 97.15, train loss: 0.081220\n",
      "Epoch: 2, batch index: 450, accuracy: 97.17, train loss: 0.150319\n",
      "Epoch: 2, batch index: 600, accuracy: 97.2, train loss: 0.197142\n",
      "Epoch: 2, batch index: 750, accuracy: 97.2, train loss: 0.042226\n",
      "Epoch: 2, batch index: 900, accuracy: 97.19, train loss: 0.118470\n",
      "Epoch: 2, batch index: 938, accuracy: 97.18, train loss: 0.105202\n",
      "New epoch\n",
      "Epoch: 3, batch index: 150, accuracy: 97.62, train loss: 0.030242\n",
      "Epoch: 3, batch index: 300, accuracy: 97.74, train loss: 0.064641\n",
      "Epoch: 3, batch index: 450, accuracy: 97.68, train loss: 0.107594\n",
      "Epoch: 3, batch index: 600, accuracy: 97.71, train loss: 0.050002\n",
      "Epoch: 3, batch index: 750, accuracy: 97.75, train loss: 0.065167\n",
      "Epoch: 3, batch index: 900, accuracy: 97.76, train loss: 0.116850\n",
      "Epoch: 3, batch index: 938, accuracy: 97.73, train loss: 0.094072\n",
      "New epoch\n",
      "Epoch: 4, batch index: 150, accuracy: 97.86, train loss: 0.135800\n",
      "Epoch: 4, batch index: 300, accuracy: 97.92, train loss: 0.046371\n",
      "Epoch: 4, batch index: 450, accuracy: 97.92, train loss: 0.117535\n",
      "Epoch: 4, batch index: 600, accuracy: 97.9, train loss: 0.063342\n",
      "Epoch: 4, batch index: 750, accuracy: 97.94, train loss: 0.077154\n",
      "Epoch: 4, batch index: 900, accuracy: 97.99, train loss: 0.049247\n",
      "Epoch: 4, batch index: 938, accuracy: 97.98, train loss: 0.016500\n",
      "New epoch\n",
      "Epoch: 5, batch index: 150, accuracy: 98.51, train loss: 0.127390\n",
      "Epoch: 5, batch index: 300, accuracy: 98.42, train loss: 0.036280\n",
      "Epoch: 5, batch index: 450, accuracy: 98.35, train loss: 0.037832\n",
      "Epoch: 5, batch index: 600, accuracy: 98.33, train loss: 0.033098\n",
      "Epoch: 5, batch index: 750, accuracy: 98.34, train loss: 0.105497\n",
      "Epoch: 5, batch index: 900, accuracy: 98.34, train loss: 0.062305\n",
      "Epoch: 5, batch index: 938, accuracy: 98.32, train loss: 0.109690\n",
      "New epoch\n",
      "Epoch: 6, batch index: 150, accuracy: 98.32, train loss: 0.065962\n",
      "Epoch: 6, batch index: 300, accuracy: 98.31, train loss: 0.004505\n",
      "Epoch: 6, batch index: 450, accuracy: 98.39, train loss: 0.005910\n",
      "Epoch: 6, batch index: 600, accuracy: 98.41, train loss: 0.004884\n",
      "Epoch: 6, batch index: 750, accuracy: 98.46, train loss: 0.031722\n",
      "Epoch: 6, batch index: 900, accuracy: 98.45, train loss: 0.002471\n",
      "Epoch: 6, batch index: 938, accuracy: 98.44, train loss: 0.017529\n",
      "New epoch\n",
      "Epoch: 7, batch index: 150, accuracy: 98.49, train loss: 0.069008\n",
      "Epoch: 7, batch index: 300, accuracy: 98.43, train loss: 0.027675\n",
      "Epoch: 7, batch index: 450, accuracy: 98.5, train loss: 0.047280\n",
      "Epoch: 7, batch index: 600, accuracy: 98.5, train loss: 0.024444\n",
      "Epoch: 7, batch index: 750, accuracy: 98.5, train loss: 0.010770\n",
      "Epoch: 7, batch index: 900, accuracy: 98.54, train loss: 0.052815\n",
      "Epoch: 7, batch index: 938, accuracy: 98.54, train loss: 0.023630\n",
      "New epoch\n",
      "Epoch: 8, batch index: 150, accuracy: 98.39, train loss: 0.048569\n",
      "Epoch: 8, batch index: 300, accuracy: 98.55, train loss: 0.017168\n",
      "Epoch: 8, batch index: 450, accuracy: 98.56, train loss: 0.085087\n",
      "Epoch: 8, batch index: 600, accuracy: 98.57, train loss: 0.004179\n",
      "Epoch: 8, batch index: 750, accuracy: 98.61, train loss: 0.001576\n",
      "Epoch: 8, batch index: 900, accuracy: 98.61, train loss: 0.055629\n",
      "Epoch: 8, batch index: 938, accuracy: 98.61, train loss: 0.007689\n",
      "New epoch\n",
      "Epoch: 9, batch index: 150, accuracy: 98.6, train loss: 0.002186\n",
      "Epoch: 9, batch index: 300, accuracy: 98.69, train loss: 0.006481\n",
      "Epoch: 9, batch index: 450, accuracy: 98.77, train loss: 0.001840\n",
      "Epoch: 9, batch index: 600, accuracy: 98.81, train loss: 0.087286\n",
      "Epoch: 9, batch index: 750, accuracy: 98.79, train loss: 0.080291\n",
      "Epoch: 9, batch index: 900, accuracy: 98.78, train loss: 0.006377\n",
      "Epoch: 9, batch index: 938, accuracy: 98.77, train loss: 0.001846\n",
      "New epoch\n",
      "Epoch: 10, batch index: 150, accuracy: 98.88, train loss: 0.237539\n",
      "Epoch: 10, batch index: 300, accuracy: 98.79, train loss: 0.016764\n",
      "Epoch: 10, batch index: 450, accuracy: 98.82, train loss: 0.029022\n",
      "Epoch: 10, batch index: 600, accuracy: 98.8, train loss: 0.008014\n",
      "Epoch: 10, batch index: 750, accuracy: 98.81, train loss: 0.126605\n",
      "Epoch: 10, batch index: 900, accuracy: 98.78, train loss: 0.007109\n",
      "Epoch: 10, batch index: 938, accuracy: 98.79, train loss: 0.009453\n"
     ]
    }
   ],
   "source": [
    "train_data, test_data = get_data(64, 1000)\n",
    "model = Model_2()\n",
    "optimizer = optim.SGD(model.parameters(), lr=0.01, momentum=0.9)\n",
    "loss_func = nn.CrossEntropyLoss()\n",
    "loss_arr_2 = []\n",
    "accuracy_arr_2 = []\n",
    "\n",
    "for epoch in range(1, 11):\n",
    "    print('New epoch')\n",
    "    loss, accuracy = train_model(model, loss_func, epoch, train_data, optimizer)\n",
    "    loss_arr_2.append(loss)\n",
    "    accuracy_arr_2.append(accuracy)"
   ]
  },
  {
   "cell_type": "code",
   "execution_count": 30,
   "id": "be7c8ed9",
   "metadata": {},
   "outputs": [
    {
     "data": {
      "image/png": "[encoded data removed]",
      "text/plain": [
       "<Figure size 640x480 with 1 Axes>"
      ]
     },
     "metadata": {},
     "output_type": "display_data"
    }
   ],
   "source": [
    "plt.xlabel('Epoch')\n",
    "plt.ylabel('Accuracy')\n",
    "plt.plot(np.arange(1,11,1), accuracy_arr, color = \"purple\")\n",
    "plt.plot(np.arange(1,11,1), accuracy_arr_2, color = \"orange\")\n",
    "plt.legend(['Model 1', 'Model 2'])\n",
    "plt.show()"
   ]
  },
  {
   "cell_type": "code",
   "execution_count": 29,
   "id": "a33f1975",
   "metadata": {},
   "outputs": [
    {
     "data": {
      "image/png": "[encoded data removed]",
      "text/plain": [
       "<Figure size 640x480 with 1 Axes>"
      ]
     },
     "metadata": {},
     "output_type": "display_data"
    }
   ],
   "source": [
    "plt.xlabel('Epoch')\n",
    "plt.ylabel('Loss')\n",
    "plt.plot(np.arange(1,11,1), loss_arr, color = \"purple\")\n",
    "plt.plot(np.arange(1,11,1), loss_arr_2, color = \"orange\")\n",
    "plt.legend(['Model 1', 'Model 2'])\n",
    "plt.show()"
   ]
  },
  {
   "cell_type": "code",
   "execution_count": null,
   "id": "8f5bb954",
   "metadata": {},
   "outputs": [],
   "source": []
  }
 ],
 "metadata": {
  "kernelspec": {
   "display_name": "Python 3 (ipykernel)",
   "language": "python",
   "name": "python3"
  },
  "language_info": {
   "codemirror_mode": {
    "name": "ipython",
    "version": 3
   },
   "file_extension": ".py",
   "mimetype": "text/x-python",
   "name": "python",
   "nbconvert_exporter": "python",
   "pygments_lexer": "ipython3",
   "version": "3.9.13"
  }
 },
 "nbformat": 4,
 "nbformat_minor": 5
}
