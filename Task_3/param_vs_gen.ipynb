{
 "cells": [
  {
   "cell_type": "code",
   "execution_count": 1,
   "id": "5e57875b",
   "metadata": {},
   "outputs": [],
   "source": [
    "import torch\n",
    "import torch.nn as nn\n",
    "import torch.optim as optim"
   ]
  },
  {
   "cell_type": "code",
   "execution_count": 2,
   "id": "499386fc",
   "metadata": {},
   "outputs": [],
   "source": [
    "from torchvision import datasets, transforms\n",
    "from torch.autograd import Variable\n",
    "from PIL import Image"
   ]
  },
  {
   "cell_type": "code",
   "execution_count": 3,
   "id": "63765b33",
   "metadata": {},
   "outputs": [],
   "source": [
    "import torch.nn.functional as F\n",
    "import numpy as np\n",
    "import matplotlib.pyplot as plt"
   ]
  },
  {
   "cell_type": "code",
   "execution_count": 4,
   "id": "453ea361",
   "metadata": {},
   "outputs": [],
   "source": [
    "import os"
   ]
  },
  {
   "cell_type": "code",
   "execution_count": 5,
   "id": "402314c6",
   "metadata": {},
   "outputs": [],
   "source": [
    "def load_data(train_size, test_size):\n",
    "        trainset = datasets.MNIST('data', train = True, download = False, \n",
    "                transform = transforms.Compose([\n",
    "                transforms.ToTensor(),\n",
    "                transforms.Normalize((0.1307,), (0.3081,))\n",
    "                ]))\n",
    "        train_data = torch.utils.data.DataLoader(trainset, batch_size=train_size, shuffle=True)\n",
    "        \n",
    "        testset = datasets.MNIST('data', train = False, download = False, \n",
    "                transform = transforms.Compose([\n",
    "                transforms.ToTensor(),\n",
    "                transforms.Normalize((0.1307,), (0.3081,))\n",
    "                ]))\n",
    "        test_data =  torch.utils.data.DataLoader(testset, batch_size=test_size, shuffle=True)\n",
    "        \n",
    "        return (train_data, test_data)"
   ]
  },
  {
   "cell_type": "code",
   "execution_count": 6,
   "id": "dd3b89b3",
   "metadata": {},
   "outputs": [],
   "source": [
    "class Model_1 (nn.Module):\n",
    "    def __init__(self):\n",
    "        super().__init__()\n",
    "        self.linear1 = nn.Linear(784, 5)\n",
    "        self.linear2 = nn.Linear(5, 9)\n",
    "        self.linear3 = nn.Linear(9, 10)\n",
    "\n",
    "    def forward(self, x):\n",
    "        x = F.relu(self.linear1(x))\n",
    "        x = F.relu(self.linear2(x))\n",
    "        x = self.linear3(x)\n",
    "        return x\n",
    "\n",
    "class Model_2 (nn.Module):\n",
    "    def __init__(self):\n",
    "        super().__init__()\n",
    "        self.linear1 = nn.Linear(784, 25)\n",
    "        self.linear2 = nn.Linear(25, 8)\n",
    "        self.linear3 = nn.Linear(8, 10)\n",
    "\n",
    "    def forward(self, x):\n",
    "        x = F.relu(self.linear1(x))\n",
    "        x = F.relu(self.linear2(x))\n",
    "        x = self.linear3(x)\n",
    "        return x\n",
    "    \n",
    "class Model_3 (nn.Module):\n",
    "    def __init__(self):\n",
    "        super().__init__()\n",
    "        self.linear1 = nn.Linear(784, 45)\n",
    "        self.linear2 = nn.Linear(45, 8)\n",
    "        self.linear3 = nn.Linear(8, 10)\n",
    "\n",
    "    def forward(self, x):\n",
    "        x = F.relu(self.linear1(x))\n",
    "        x = F.relu(self.linear2(x))\n",
    "        x = self.linear3(x)\n",
    "        return x\n",
    "    \n",
    "class Model_4 (nn.Module):\n",
    "    def __init__(self):\n",
    "        super().__init__()\n",
    "        self.linear1 = nn.Linear(784, 65)\n",
    "        self.linear2 = nn.Linear(65, 8)\n",
    "        self.linear3 = nn.Linear(8, 10)\n",
    "\n",
    "    def forward(self, x):\n",
    "        x = F.relu(self.linear1(x))\n",
    "        x = F.relu(self.linear2(x))\n",
    "        x = self.linear3(x)\n",
    "        return x\n",
    "    \n",
    "class Model_5 (nn.Module):\n",
    "    def __init__(self):\n",
    "        super().__init__()\n",
    "        self.linear1 = nn.Linear(784, 85)\n",
    "        self.linear2 = nn.Linear(85, 8)\n",
    "        self.linear3 = nn.Linear(8, 10)\n",
    "\n",
    "    def forward(self, x):\n",
    "        x = F.relu(self.linear1(x))\n",
    "        x = F.relu(self.linear2(x))\n",
    "        x = self.linear3(x)\n",
    "        return x\n",
    "    \n",
    "class Model_6 (nn.Module):\n",
    "    def __init__(self):\n",
    "        super().__init__()\n",
    "        self.linear1 = nn.Linear(784, 105)\n",
    "        self.linear2 = nn.Linear(105, 8)\n",
    "        self.linear3 = nn.Linear(8, 10)\n",
    "\n",
    "    def forward(self, x):\n",
    "        x = F.relu(self.linear1(x))\n",
    "        x = F.relu(self.linear2(x))\n",
    "        x = self.linear3(x)\n",
    "        return x\n",
    "\n",
    "class Model_7 (nn.Module):\n",
    "    def __init__(self):\n",
    "        super().__init__()\n",
    "        self.linear1 = nn.Linear(784, 125)\n",
    "        self.linear2 = nn.Linear(125, 8)\n",
    "        self.linear3 = nn.Linear(8, 10)\n",
    "\n",
    "    def forward(self, x):\n",
    "        x = F.relu(self.linear1(x))\n",
    "        x = F.relu(self.linear2(x))\n",
    "        x = self.linear3(x)\n",
    "        return x\n",
    "    \n",
    "class Model_8 (nn.Module):\n",
    "    def __init__(self):\n",
    "        super().__init__()\n",
    "        self.linear1 = nn.Linear(784, 145)\n",
    "        self.linear2 = nn.Linear(145, 8)\n",
    "        self.linear3 = nn.Linear(8, 10)\n",
    "\n",
    "    def forward(self, x):\n",
    "        x = F.relu(self.linear1(x))\n",
    "        x = F.relu(self.linear2(x))\n",
    "        x = self.linear3(x)\n",
    "        return x\n",
    "    \n",
    "class Model_9 (nn.Module):\n",
    "    def __init__(self):\n",
    "        super().__init__()\n",
    "        self.linear1 = nn.Linear(784, 165)\n",
    "        self.linear2 = nn.Linear(165, 8)\n",
    "        self.linear3 = nn.Linear(8, 10)\n",
    "\n",
    "    def forward(self, x):\n",
    "        x = F.relu(self.linear1(x))\n",
    "        x = F.relu(self.linear2(x))\n",
    "        x = self.linear3(x)\n",
    "        return x\n",
    "    \n",
    "class Model_10 (nn.Module):\n",
    "    def __init__(self):\n",
    "        super().__init__()\n",
    "        self.linear1 = nn.Linear(784, 185)\n",
    "        self.linear2 = nn.Linear(185, 8)\n",
    "        self.linear3 = nn.Linear(8, 10)\n",
    "\n",
    "    def forward(self, x):\n",
    "        x = F.relu(self.linear1(x))\n",
    "        x = F.relu(self.linear2(x))\n",
    "        x = self.linear3(x)\n",
    "        return x"
   ]
  },
  {
   "cell_type": "code",
   "execution_count": 7,
   "id": "779ce1da",
   "metadata": {},
   "outputs": [],
   "source": [
    "def calculate_parameters(modelName, model):\n",
    "    param = sum(p.numel() for p in model.parameters())\n",
    "    print('{}: {}'.format(modelName, param))\n",
    "    return param"
   ]
  },
  {
   "cell_type": "code",
   "execution_count": 8,
   "id": "e52af7bb",
   "metadata": {},
   "outputs": [],
   "source": [
    "# param_arr = []\n",
    "# print('Number of parameters')\n",
    "\n",
    "# param_arr.append(calculate_parameters('Model 1', Model_1()))\n",
    "\n",
    "# param_arr.append(calculate_parameters('Model 2',  Model_2()))\n",
    "\n",
    "# param_arr.append(calculate_parameters('Model 3',  Model_3()))\n",
    "\n",
    "# param_arr.append(calculate_parameters('Model 4',  Model_4()))\n",
    "\n",
    "# param_arr.append(calculate_parameters('Model 5',  Model_5()))\n",
    "\n",
    "# param_arr.append(calculate_parameters('Model 6',  Model_6()))\n",
    "\n",
    "# param_arr.append(calculate_parameters('Model 7',  Model_7()))\n",
    "\n",
    "# param_arr.append(calculate_parameters('Model 8',  Model_8()))\n",
    "\n",
    "# param_arr.append(calculate_parameters('Model 9',  Model_9()))\n",
    "\n",
    "# param_arr.append(calculate_parameters('Model 10',  Model_10()))"
   ]
  },
  {
   "cell_type": "code",
   "execution_count": 9,
   "id": "64441844",
   "metadata": {},
   "outputs": [],
   "source": [
    "train_batch_size = 50\n",
    "test_batch_size = 100\n",
    "train_data, test_data = load_data(train_batch_size, test_batch_size)"
   ]
  },
  {
   "cell_type": "code",
   "execution_count": 10,
   "id": "68aa2c8f",
   "metadata": {},
   "outputs": [],
   "source": [
    "def initiliase_optimizer(model):\n",
    "    return optim.Adam(model.parameters(), lr = 0.0001)"
   ]
  },
  {
   "cell_type": "code",
   "execution_count": 11,
   "id": "f964b845",
   "metadata": {},
   "outputs": [],
   "source": [
    "def train(model, optimizer, data):\n",
    "    model.train()\n",
    "    for batch_idx, (data, target) in enumerate(data):\n",
    "        data, target = Variable(data), Variable(target)\n",
    "        optimizer.zero_grad()\n",
    "\n",
    "        output = model(data.view(-1, 784))\n",
    "        loss_fn = torch.nn.CrossEntropyLoss()\n",
    "        loss = loss_fn(output, target)\n",
    "        loss.backward()\n",
    "        optimizer.step()"
   ]
  },
  {
   "cell_type": "code",
   "execution_count": 12,
   "id": "5c5ddeb5",
   "metadata": {},
   "outputs": [],
   "source": [
    "def calculate_op_diff(model, loader):\n",
    "    correct = 0\n",
    "    total = 0\n",
    "    costTotal = 0\n",
    "    costCounter = 0\n",
    "    loss_fn = torch.nn.CrossEntropyLoss()\n",
    "    with torch.no_grad():\n",
    "        for batch in loader:\n",
    "            data, target = batch\n",
    "            output = model(data.view(-1, 784))\n",
    "            cost = loss_fn(output, target)\n",
    "            costTotal += cost\n",
    "            costCounter += 1\n",
    "            for i, outputTensor in enumerate(output):\n",
    "                if torch.argmax(outputTensor) == target[i]:\n",
    "                    correct += 1\n",
    "                total += 1\n",
    "    return costTotal / costCounter, round(correct/total, 3)"
   ]
  },
  {
   "cell_type": "code",
   "execution_count": 13,
   "id": "6324dcc4",
   "metadata": {},
   "outputs": [],
   "source": [
    "epochs=8\n",
    "param_arr = []\n",
    "train_loss_arr = []\n",
    "test_loss_arr = []\n",
    "train_accuracy_arr = []\n",
    "test_accuracy_arr = []\n",
    "\n",
    "def train_models(model, optimizer, train_data, test_data):\n",
    "    total_train_loss = 0\n",
    "    print('Training model ')\n",
    "    for epoch in range(1, epochs + 1):\n",
    "        train(model, optimizer, train_data)\n",
    "    train_loss, train_acc = calculate_op_diff(model, train_data)\n",
    "    test_loss, test_acc = calculate_op_diff(model, test_data)\n",
    "        \n",
    "    train_loss_arr.append(train_loss)\n",
    "    test_loss_arr.append(test_loss)\n",
    "    train_accuracy_arr.append(train_acc)\n",
    "    test_accuracy_arr.append(test_acc)\n",
    "    param_arr.append(calculate_parameters('Model params',  model))\n",
    "    print('Training completed - ' , train_loss)\n",
    "    print('test loss - ', test_loss)\n",
    "    return train_loss, test_loss"
   ]
  },
  {
   "cell_type": "code",
   "execution_count": 14,
   "id": "6304b26f",
   "metadata": {},
   "outputs": [],
   "source": [
    "loss_arr = []\n",
    "test_loss_arr = []"
   ]
  },
  {
   "cell_type": "code",
   "execution_count": 15,
   "id": "972c2a96",
   "metadata": {},
   "outputs": [
    {
     "name": "stdout",
     "output_type": "stream",
     "text": [
      "Model 1\n",
      "Training model \n",
      "Model params: 4079\n",
      "Training completed -  tensor(0.4676)\n",
      "test loss -  tensor(0.4577)\n"
     ]
    },
    {
     "data": {
      "text/plain": [
       "(tensor(0.4676), tensor(0.4577))"
      ]
     },
     "execution_count": 15,
     "metadata": {},
     "output_type": "execute_result"
    }
   ],
   "source": [
    "model1 = Model_1()\n",
    "# print(\"Model 1 parameters: \", (calculate_parameters(model1)))\n",
    "optimizer = initiliase_optimizer(model1)\n",
    "print('Model 1')\n",
    "train_models(model1, optimizer, train_data, test_data)"
   ]
  },
  {
   "cell_type": "code",
   "execution_count": 16,
   "id": "e096a851",
   "metadata": {},
   "outputs": [
    {
     "name": "stdout",
     "output_type": "stream",
     "text": [
      "Model 2\n",
      "Training model \n",
      "Model params: 19923\n",
      "Training completed -  tensor(0.2489)\n",
      "test loss -  tensor(0.2467)\n"
     ]
    }
   ],
   "source": [
    "model1 = Model_2()\n",
    "# print(\"Model 1 parameters: \", (calculate_parameters(model1)))\n",
    "optimizer = initiliase_optimizer(model1)\n",
    "print('Model 2')\n",
    "loss = train_models(model1, optimizer, train_data, test_data)"
   ]
  },
  {
   "cell_type": "code",
   "execution_count": 17,
   "id": "c7b3b18c",
   "metadata": {},
   "outputs": [
    {
     "name": "stdout",
     "output_type": "stream",
     "text": [
      "Model 3\n",
      "Training model \n",
      "Model params: 35783\n",
      "Training completed -  tensor(0.2134)\n",
      "test loss -  tensor(0.2227)\n"
     ]
    }
   ],
   "source": [
    "model1 = Model_3()\n",
    "# print(\"Model 1 parameters: \", (calculate_parameters(model1)))\n",
    "optimizer = initiliase_optimizer(model1)\n",
    "print('Model 3')\n",
    "loss = train_models(model1, optimizer, train_data, test_data)"
   ]
  },
  {
   "cell_type": "code",
   "execution_count": 18,
   "id": "ddeeb0b2",
   "metadata": {},
   "outputs": [
    {
     "name": "stdout",
     "output_type": "stream",
     "text": [
      "Model 4\n",
      "Training model \n",
      "Model params: 51643\n",
      "Training completed -  tensor(0.1809)\n",
      "test loss -  tensor(0.1965)\n"
     ]
    }
   ],
   "source": [
    "model1 = Model_4()\n",
    "# print(\"Model 1 parameters: \", (calculate_parameters(model1)))\n",
    "optimizer = initiliase_optimizer(model1)\n",
    "print('Model 4')\n",
    "loss = train_models(model1, optimizer, train_data, test_data)"
   ]
  },
  {
   "cell_type": "code",
   "execution_count": 19,
   "id": "4dba4df7",
   "metadata": {},
   "outputs": [
    {
     "name": "stdout",
     "output_type": "stream",
     "text": [
      "Model 5\n",
      "Training model \n",
      "Model params: 67503\n",
      "Training completed -  tensor(0.2031)\n",
      "test loss -  tensor(0.2172)\n"
     ]
    }
   ],
   "source": [
    "model1 = Model_5()\n",
    "# print(\"Model 1 parameters: \", (calculate_parameters(model1)))\n",
    "optimizer = initiliase_optimizer(model1)\n",
    "print('Model 5')\n",
    "loss = train_models(model1, optimizer, train_data, test_data)"
   ]
  },
  {
   "cell_type": "code",
   "execution_count": 20,
   "id": "819b2fa0",
   "metadata": {},
   "outputs": [
    {
     "name": "stdout",
     "output_type": "stream",
     "text": [
      "Model 6\n",
      "Training model \n",
      "Model params: 83363\n",
      "Training completed -  tensor(0.1325)\n",
      "test loss -  tensor(0.1445)\n"
     ]
    }
   ],
   "source": [
    "model1 = Model_6()\n",
    "# print(\"Model 1 parameters: \", (calculate_parameters(model1)))\n",
    "optimizer = initiliase_optimizer(model1)\n",
    "print('Model 6')\n",
    "loss = train_models(model1, optimizer, train_data, test_data)"
   ]
  },
  {
   "cell_type": "code",
   "execution_count": 21,
   "id": "5fa8a7fb",
   "metadata": {},
   "outputs": [
    {
     "name": "stdout",
     "output_type": "stream",
     "text": [
      "Model 7\n",
      "Training model \n",
      "Model params: 99223\n",
      "Training completed -  tensor(0.1540)\n",
      "test loss -  tensor(0.1668)\n"
     ]
    }
   ],
   "source": [
    "model1 = Model_7()\n",
    "# print(\"Model 1 parameters: \", (calculate_parameters(model1)))\n",
    "optimizer = initiliase_optimizer(model1)\n",
    "print('Model 7')\n",
    "loss = train_models(model1, optimizer, train_data, test_data)"
   ]
  },
  {
   "cell_type": "code",
   "execution_count": 22,
   "id": "55b52183",
   "metadata": {},
   "outputs": [
    {
     "name": "stdout",
     "output_type": "stream",
     "text": [
      "Model 8\n",
      "Training model \n",
      "Model params: 115083\n",
      "Training completed -  tensor(0.1244)\n",
      "test loss -  tensor(0.1354)\n"
     ]
    }
   ],
   "source": [
    "model1 = Model_8()\n",
    "# print(\"Model 1 parameters: \", (calculate_parameters(model1)))\n",
    "optimizer = initiliase_optimizer(model1)\n",
    "print('Model 8')\n",
    "loss = train_models(model1, optimizer, train_data, test_data)"
   ]
  },
  {
   "cell_type": "code",
   "execution_count": 23,
   "id": "0f209f88",
   "metadata": {},
   "outputs": [
    {
     "name": "stdout",
     "output_type": "stream",
     "text": [
      "Model 9\n",
      "Training model \n",
      "Model params: 130943\n",
      "Training completed -  tensor(0.1297)\n",
      "test loss -  tensor(0.1443)\n"
     ]
    }
   ],
   "source": [
    "model1 = Model_9()\n",
    "# print(\"Model 1 parameters: \", (calculate_parameters(model1)))\n",
    "optimizer = initiliase_optimizer(model1)\n",
    "print('Model 9')\n",
    "loss = train_models(model1, optimizer, train_data, test_data)"
   ]
  },
  {
   "cell_type": "code",
   "execution_count": 24,
   "id": "4c47bcb0",
   "metadata": {},
   "outputs": [
    {
     "name": "stdout",
     "output_type": "stream",
     "text": [
      "Model 10\n",
      "Training model \n",
      "Model params: 146803\n",
      "Training completed -  tensor(0.1192)\n",
      "test loss -  tensor(0.1359)\n"
     ]
    }
   ],
   "source": [
    "model1 = Model_10()\n",
    "# print(\"Model 1 parameters: \", (calculate_parameters(model1)))\n",
    "optimizer = initiliase_optimizer(model1)\n",
    "print('Model 10')\n",
    "loss = train_models(model1, optimizer, train_data, test_data)"
   ]
  },
  {
   "cell_type": "code",
   "execution_count": 28,
   "id": "e633684b",
   "metadata": {},
   "outputs": [
    {
     "data": {
      "image/png": "[encoded data removed]",
      "text/plain": [
       "<Figure size 640x480 with 1 Axes>"
      ]
     },
     "metadata": {},
     "output_type": "display_data"
    }
   ],
   "source": [
    "plt.xlabel('Parameters')\n",
    "plt.ylabel('Loss')\n",
    "plt.scatter(param_arr,train_loss_arr,  color = \"orange\")\n",
    "plt.scatter(param_arr,test_loss_arr,  color = \"purple\")\n",
    "plt.legend(['Train', 'Test'])\n",
    "plt.show()"
   ]
  },
  {
   "cell_type": "code",
   "execution_count": 29,
   "id": "2b5b7284",
   "metadata": {},
   "outputs": [
    {
     "data": {
      "image/png": "[encoded data removed]",
      "text/plain": [
       "<Figure size 640x480 with 1 Axes>"
      ]
     },
     "metadata": {},
     "output_type": "display_data"
    }
   ],
   "source": [
    "plt.xlabel('Parameters')\n",
    "plt.ylabel('Accuracy')\n",
    "plt.scatter(param_arr,train_accuracy_arr,  color = \"orange\")\n",
    "plt.scatter(param_arr,test_accuracy_arr,  color = \"purple\")\n",
    "plt.legend(['Train', 'Test'])\n",
    "plt.show()"
   ]
  },
  {
   "cell_type": "code",
   "execution_count": null,
   "id": "626f355c",
   "metadata": {},
   "outputs": [],
   "source": []
  }
 ],
 "metadata": {
  "kernelspec": {
   "display_name": "Python 3 (ipykernel)",
   "language": "python",
   "name": "python3"
  },
  "language_info": {
   "codemirror_mode": {
    "name": "ipython",
    "version": 3
   },
   "file_extension": ".py",
   "mimetype": "text/x-python",
   "name": "python",
   "nbconvert_exporter": "python",
   "pygments_lexer": "ipython3",
   "version": "3.9.13"
  }
 },
 "nbformat": 4,
 "nbformat_minor": 5
}
