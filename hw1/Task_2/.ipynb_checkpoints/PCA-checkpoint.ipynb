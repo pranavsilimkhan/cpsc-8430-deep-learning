{
 "cells": [
  {
   "cell_type": "code",
   "execution_count": 2,
   "id": "97c18f59",
   "metadata": {},
   "outputs": [],
   "source": [
    "import torch\n",
    "import torch.nn as nn\n",
    "import torch.optim as optim\n",
    "import torch.nn.functional as F"
   ]
  },
  {
   "cell_type": "code",
   "execution_count": 3,
   "id": "22c759da",
   "metadata": {},
   "outputs": [],
   "source": [
    "import torchvision\n",
    "from torchvision import datasets, transforms"
   ]
  },
  {
   "cell_type": "code",
   "execution_count": 4,
   "id": "1ebeb5c4",
   "metadata": {},
   "outputs": [],
   "source": [
    "from sklearn.decomposition import PCA\n",
    "import matplotlib.pyplot as plt"
   ]
  },
  {
   "cell_type": "code",
   "execution_count": 5,
   "id": "531ea05a",
   "metadata": {},
   "outputs": [],
   "source": [
    "import pandas as pd\n",
    "import numpy as np"
   ]
  },
  {
   "cell_type": "code",
   "execution_count": 6,
   "id": "ae10fa53",
   "metadata": {},
   "outputs": [],
   "source": [
    "# Initialise data transformers\n",
    "transformers=transforms.Compose([\n",
    "                        transforms.ToTensor()])"
   ]
  },
  {
   "cell_type": "code",
   "execution_count": 7,
   "id": "07b6fa7e",
   "metadata": {},
   "outputs": [],
   "source": [
    "def data_load(train_batch_size, test_batch_size):\n",
    "    train_data_loader = torch.utils.data.DataLoader(\n",
    "                            datasets.MNIST(root='data',train=True,download=True, transform=transformers),\n",
    "                            batch_size=train_batch_size, shuffle=True)\n",
    "    \n",
    "    test_data_loader = torch.utils.data.DataLoader(\n",
    "                            datasets.MNIST(root='data',train=False,download=True, transform= transformers),\n",
    "                            batch_size=test_batch_size, shuffle=True)\n",
    "    \n",
    "    return (train_data_loader,test_data_loader)"
   ]
  },
  {
   "cell_type": "code",
   "execution_count": 8,
   "id": "8ee51bb4",
   "metadata": {},
   "outputs": [],
   "source": [
    "class Model(nn.Module):\n",
    "    def __init__(self):\n",
    "        super(Model, self).__init__()\n",
    "        self.linear_1 = nn.Linear(784, 18)\n",
    "        self.linear_2 = nn.Linear(18, 20)\n",
    "        self.linear_3 = nn.Linear(20, 10)\n",
    "\n",
    "    def forward(self, x):\n",
    "        x = F.relu(self.linear_1(x))\n",
    "        x = F.relu(self.linear_2(x))\n",
    "        x = self.linear_3(x)\n",
    "        return x"
   ]
  },
  {
   "cell_type": "code",
   "execution_count": 9,
   "id": "f112e570",
   "metadata": {},
   "outputs": [],
   "source": [
    "def train_model(model, train_data, optimizer):\n",
    "    model.train()\n",
    "    loss_arr = []\n",
    "    accuracy_arr = []\n",
    "    epoch_range = 1\n",
    "    total_df=pd.DataFrame()\n",
    "    \n",
    "    for epoch in range(epoch_range):\n",
    "        total_loss = 0\n",
    "        total_samples = 0\n",
    "        correct_samples = 0\n",
    "        print(\"Training Epoch - \",epoch+1)\n",
    "\n",
    "        for index,(data, target) in enumerate(train_data):\n",
    "            optimizer.zero_grad()\n",
    "            #Transform the input\n",
    "            data = data.view(-1, 784)\n",
    "            prediction = model(data)\n",
    "            \n",
    "            loss = loss_func(prediction, target)\n",
    "            loss.backward()\n",
    "            optimizer.step()\n",
    "            # Calculate the total loss for each epoch\n",
    "            total_loss = total_loss + loss.data\n",
    "            \n",
    "            #Calculate the total accuracy for each epoch\n",
    "            total_samples += target.size(0)\n",
    "            prediction_data = np.argmax(prediction.data, axis=1)\n",
    "            correct_samples += (prediction_data == target).sum().item()\n",
    "    \n",
    "        accuracy=(correct_samples/total_samples)*100\n",
    "        \n",
    "        loss_arr.append(total_loss)\n",
    "        accuracy_arr.append(round(accuracy,3))\n",
    "        print('Accuracy - ', accuracy.data)\n",
    "        print('Round acc - ', round(accuracy,3))\n",
    "                \n",
    "        # Store the weights\n",
    "        df = pd.DataFrame()\n",
    "        for name, parameter in model.named_parameters():\n",
    "            if 'weight' in name:\n",
    "                ws=torch.nn.utils.parameters_to_vector(parameter).detach().numpy()\n",
    "                df = pd.concat([df, pd.DataFrame(ws).T], axis = 1)\n",
    "        \n",
    "        total_df = pd.concat([total_df, df], axis = 0)\n",
    "\n",
    "    return loss_arr, accuracy_arr, total_df"
   ]
  },
  {
   "cell_type": "code",
   "execution_count": 17,
   "id": "d8b07dea",
   "metadata": {},
   "outputs": [
    {
     "name": "stdout",
     "output_type": "stream",
     "text": [
      "Training loop -  0\n",
      "Training Epoch -  1\n",
      "Accuracy -  79.07833333333333\n",
      "Round acc -  79.078\n",
      "Acc -  [tensor(42.4839)]\n",
      "Training loop -  1\n",
      "Training Epoch -  1\n"
     ]
    },
    {
     "name": "stderr",
     "output_type": "stream",
     "text": [
      "/var/folders/1z/_dfyz4ld301cjhg8930248pm0000gn/T/ipykernel_10113/2565151355.py:15: FutureWarning: The frame.append method is deprecated and will be removed from pandas in a future version. Use pandas.concat instead.\n",
      "  total_w_df = total_w_df.append(w_df)\n"
     ]
    },
    {
     "name": "stdout",
     "output_type": "stream",
     "text": [
      "Accuracy -  79.65\n",
      "Round acc -  79.65\n",
      "Acc -  [tensor(41.6049)]\n",
      "Training loop -  2\n",
      "Training Epoch -  1\n"
     ]
    },
    {
     "name": "stderr",
     "output_type": "stream",
     "text": [
      "/var/folders/1z/_dfyz4ld301cjhg8930248pm0000gn/T/ipykernel_10113/2565151355.py:15: FutureWarning: The frame.append method is deprecated and will be removed from pandas in a future version. Use pandas.concat instead.\n",
      "  total_w_df = total_w_df.append(w_df)\n"
     ]
    },
    {
     "name": "stdout",
     "output_type": "stream",
     "text": [
      "Accuracy -  76.43666666666667\n",
      "Round acc -  76.437\n",
      "Acc -  [tensor(46.7451)]\n",
      "Training loop -  3\n",
      "Training Epoch -  1\n"
     ]
    },
    {
     "name": "stderr",
     "output_type": "stream",
     "text": [
      "/var/folders/1z/_dfyz4ld301cjhg8930248pm0000gn/T/ipykernel_10113/2565151355.py:15: FutureWarning: The frame.append method is deprecated and will be removed from pandas in a future version. Use pandas.concat instead.\n",
      "  total_w_df = total_w_df.append(w_df)\n"
     ]
    },
    {
     "name": "stdout",
     "output_type": "stream",
     "text": [
      "Accuracy -  78.92333333333333\n",
      "Round acc -  78.923\n",
      "Acc -  [tensor(42.2020)]\n",
      "Training loop -  4\n",
      "Training Epoch -  1\n"
     ]
    },
    {
     "name": "stderr",
     "output_type": "stream",
     "text": [
      "/var/folders/1z/_dfyz4ld301cjhg8930248pm0000gn/T/ipykernel_10113/2565151355.py:15: FutureWarning: The frame.append method is deprecated and will be removed from pandas in a future version. Use pandas.concat instead.\n",
      "  total_w_df = total_w_df.append(w_df)\n"
     ]
    },
    {
     "name": "stdout",
     "output_type": "stream",
     "text": [
      "Accuracy -  76.82333333333334\n",
      "Round acc -  76.823\n",
      "Acc -  [tensor(44.8835)]\n",
      "Training loop -  5\n",
      "Training Epoch -  1\n"
     ]
    },
    {
     "name": "stderr",
     "output_type": "stream",
     "text": [
      "/var/folders/1z/_dfyz4ld301cjhg8930248pm0000gn/T/ipykernel_10113/2565151355.py:15: FutureWarning: The frame.append method is deprecated and will be removed from pandas in a future version. Use pandas.concat instead.\n",
      "  total_w_df = total_w_df.append(w_df)\n"
     ]
    },
    {
     "name": "stdout",
     "output_type": "stream",
     "text": [
      "Accuracy -  77.81333333333333\n",
      "Round acc -  77.813\n",
      "Acc -  [tensor(44.6744)]\n",
      "Training loop -  6\n",
      "Training Epoch -  1\n"
     ]
    },
    {
     "name": "stderr",
     "output_type": "stream",
     "text": [
      "/var/folders/1z/_dfyz4ld301cjhg8930248pm0000gn/T/ipykernel_10113/2565151355.py:15: FutureWarning: The frame.append method is deprecated and will be removed from pandas in a future version. Use pandas.concat instead.\n",
      "  total_w_df = total_w_df.append(w_df)\n"
     ]
    },
    {
     "name": "stdout",
     "output_type": "stream",
     "text": [
      "Accuracy -  76.92166666666667\n",
      "Round acc -  76.922\n",
      "Acc -  [tensor(45.5960)]\n",
      "Training loop -  7\n",
      "Training Epoch -  1\n"
     ]
    },
    {
     "name": "stderr",
     "output_type": "stream",
     "text": [
      "/var/folders/1z/_dfyz4ld301cjhg8930248pm0000gn/T/ipykernel_10113/2565151355.py:15: FutureWarning: The frame.append method is deprecated and will be removed from pandas in a future version. Use pandas.concat instead.\n",
      "  total_w_df = total_w_df.append(w_df)\n"
     ]
    },
    {
     "name": "stdout",
     "output_type": "stream",
     "text": [
      "Accuracy -  79.44833333333334\n",
      "Round acc -  79.448\n",
      "Acc -  [tensor(42.3347)]\n"
     ]
    },
    {
     "name": "stderr",
     "output_type": "stream",
     "text": [
      "/var/folders/1z/_dfyz4ld301cjhg8930248pm0000gn/T/ipykernel_10113/2565151355.py:15: FutureWarning: The frame.append method is deprecated and will be removed from pandas in a future version. Use pandas.concat instead.\n",
      "  total_w_df = total_w_df.append(w_df)\n"
     ]
    }
   ],
   "source": [
    "train_data, test_data= data_load(1000,1000)\n",
    "loss_func = nn.CrossEntropyLoss()\n",
    "total_w_df=pd.DataFrame()\n",
    "total_accuracy = []\n",
    "total_loss = []\n",
    "\n",
    "for i in range(8):\n",
    "    print('Training loop - ', i)\n",
    "    model = Model()\n",
    "    optimizer = torch.optim.Adam(model.parameters(), lr=0.01)\n",
    "    loss_arr, accuracy_arr, w_df = train_model(model, train_data, optimizer)\n",
    "    print('Acc - ',loss_arr)\n",
    "    total_loss.extend(loss_arr)\n",
    "    total_accuracy.extend(accuracy_arr)\n",
    "    total_w_df = total_w_df.append(w_df)"
   ]
  },
  {
   "cell_type": "code",
   "execution_count": 16,
   "id": "67033694",
   "metadata": {},
   "outputs": [
    {
     "name": "stdout",
     "output_type": "stream",
     "text": [
      "(8, 14672)\n",
      "(8, 2)\n",
      "[[74.075], [77.547], [76.32], [74.963], [78.792], [79.343], [79.427], [77.348]]\n",
      "           x          y  accuracy               loss\n",
      "0  -2.836095   4.402679  [74.075]  [tensor(47.1488)]\n",
      "1  -5.860636  -6.552793  [77.547]  [tensor(42.8717)]\n",
      "2  10.044985   2.610619   [76.32]  [tensor(45.7840)]\n",
      "3  -6.964553  10.665350  [74.963]  [tensor(47.8082)]\n",
      "4   4.838608  -9.774593  [78.792]  [tensor(42.5427)]\n",
      "5  -3.802000  -0.722303  [79.343]  [tensor(41.8913)]\n",
      "6  10.454981   3.857407  [79.427]  [tensor(42.3334)]\n",
      "7  -5.875292  -4.486367  [77.348]  [tensor(44.6915)]\n"
     ]
    }
   ],
   "source": [
    "df=np.array(total_w_df)\n",
    "print(total_w_df.shape)\n",
    "pca = PCA(n_components=2)\n",
    "pca_ = pca.fit_transform(df)\n",
    "pca_df=pd.DataFrame(pca_,columns=['x','y'])\n",
    "print(pca_df.shape)\n",
    "print(total_accuracy)\n",
    "pca_df[\"accuracy\"]=total_accuracy\n",
    "pca_df[\"loss\"]=total_loss\n",
    "print(pca_df)"
   ]
  },
  {
   "cell_type": "code",
   "execution_count": null,
   "id": "e0d128d1",
   "metadata": {},
   "outputs": [],
   "source": []
  }
 ],
 "metadata": {
  "kernelspec": {
   "display_name": "Python 3 (ipykernel)",
   "language": "python",
   "name": "python3"
  },
  "language_info": {
   "codemirror_mode": {
    "name": "ipython",
    "version": 3
   },
   "file_extension": ".py",
   "mimetype": "text/x-python",
   "name": "python",
   "nbconvert_exporter": "python",
   "pygments_lexer": "ipython3",
   "version": "3.9.13"
  }
 },
 "nbformat": 4,
 "nbformat_minor": 5
}
