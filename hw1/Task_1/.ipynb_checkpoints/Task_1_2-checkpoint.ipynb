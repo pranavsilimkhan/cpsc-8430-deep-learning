{
 "cells": [
  {
   "cell_type": "code",
   "execution_count": 81,
   "id": "daa12f1f",
   "metadata": {},
   "outputs": [],
   "source": [
    "import numpy as np"
   ]
  },
  {
   "cell_type": "code",
   "execution_count": 82,
   "id": "5e70d38a",
   "metadata": {},
   "outputs": [],
   "source": [
    "import torch\n",
    "import matplotlib.pyplot as plt"
   ]
  },
  {
   "cell_type": "code",
   "execution_count": 83,
   "id": "2a37d525",
   "metadata": {},
   "outputs": [],
   "source": [
    "import torch.nn as nn\n",
    "import torchvision.datasets as dset\n",
    "import torchvision.transforms as transforms"
   ]
  },
  {
   "cell_type": "code",
   "execution_count": 84,
   "id": "b4ce4336",
   "metadata": {},
   "outputs": [],
   "source": [
    "import torch.nn.functional as F\n",
    "import torch.optim as optim"
   ]
  },
  {
   "cell_type": "code",
   "execution_count": 85,
   "id": "49f40234",
   "metadata": {},
   "outputs": [],
   "source": [
    "from torch.autograd import Variable"
   ]
  },
  {
   "cell_type": "code",
   "execution_count": 86,
   "id": "e312b79c",
   "metadata": {},
   "outputs": [],
   "source": [
    "folder = './data'\n",
    "trans = transforms.Compose([transforms.ToTensor(), transforms.Normalize((0.1307,), (0.3081,)), transforms.Resize((32, 32))])"
   ]
  },
  {
   "cell_type": "code",
   "execution_count": 87,
   "id": "dc4a31be",
   "metadata": {},
   "outputs": [],
   "source": [
    "# Download MNIST dataset\n",
    "train_set = dset.MNIST(root=folder, train=True, transform=trans, download=True)\n",
    "test_set = dset.MNIST(root=folder, train=False, transform=trans, download=True)"
   ]
  },
  {
   "cell_type": "code",
   "execution_count": 88,
   "id": "f71465b0",
   "metadata": {},
   "outputs": [],
   "source": [
    "def get_data(train_size, test_size):\n",
    "    train_data = torch.utils.data.DataLoader(\n",
    "                 dataset=train_set,\n",
    "                 batch_size=train_size,\n",
    "                 shuffle=True)\n",
    "    test_data = torch.utils.data.DataLoader(\n",
    "                dataset=test_set,\n",
    "                batch_size=test_size,\n",
    "                shuffle=True)\n",
    "    return (train_data, test_data)"
   ]
  },
  {
   "cell_type": "code",
   "execution_count": 89,
   "id": "eac2bfcc",
   "metadata": {},
   "outputs": [],
   "source": [
    "class Model_1(nn.Module):\n",
    "    def __init__(self):\n",
    "        super(Model_1, self).__init__()\n",
    "        \n",
    "        self.conv1 = nn.Conv2d(1, 6, 5)\n",
    "        self.conv2 = nn.Conv2d(6, 16, 5)\n",
    "        self.fc1 = nn.Linear(16 * 5 * 5, 120)\n",
    "        self.fc2 = nn.Linear(120, 84)\n",
    "        self.fc3 = nn.Linear(84, 10)\n",
    "\n",
    "    def forward(self, x):\n",
    "        x = F.max_pool2d(F.relu(self.conv1(x)), 2)\n",
    "        x = F.max_pool2d(F.relu(self.conv2(x)), 2)\n",
    "        x = x.view(x.size()[0], -1)\n",
    "        x = F.relu(self.fc1(x))\n",
    "        x = F.relu(self.fc2(x))\n",
    "\n",
    "        x = self.fc3(x)\n",
    "        return x"
   ]
  },
  {
   "cell_type": "code",
   "execution_count": 90,
   "id": "e95ff9b4",
   "metadata": {},
   "outputs": [],
   "source": [
    "def train_model(model, loss_func, epoch, data, optimizer):\n",
    "    average_loss = 0\n",
    "    sample_size = 0\n",
    "    correct_predictions = 0\n",
    "    total_loss = 0\n",
    "    i=0\n",
    "    for batch_idx, (x, target) in enumerate(data):\n",
    "        i+=1\n",
    "        optimizer.zero_grad()\n",
    "        x, expected_out = Variable(x), Variable(target)\n",
    "        output = model(x)\n",
    "        loss = loss_func(output, expected_out)\n",
    "        loss.backward()\n",
    "        optimizer.step()\n",
    "        predicted_output = np.argmax(output.data, axis=1)\n",
    "        \n",
    "        sample_size = sample_size + target.size(0)\n",
    "        correct_predictions = correct_predictions + (predicted_output == expected_out).sum().item()\n",
    "        accuracy = 100.0 * correct_predictions / sample_size\n",
    "        total_loss = total_loss + loss.data\n",
    "        \n",
    "#         average_loss = average_loss * 0.9 + loss.data[0] * 0.1\n",
    "        if (batch_idx+1) % 150 == 0 or (batch_idx+1) == len(data):\n",
    "            print('Epoch: {}, batch index: {}, accuracy: {}, train loss: {:.6f}'.format(\n",
    "                epoch, batch_idx+1, round(accuracy, 2), loss.data))\n",
    "\n",
    "    total_loss = total_loss/i;\n",
    "    return total_loss, round(accuracy,2)"
   ]
  },
  {
   "cell_type": "code",
   "execution_count": 91,
   "id": "944672ed",
   "metadata": {},
   "outputs": [
    {
     "name": "stdout",
     "output_type": "stream",
     "text": [
      "Epoch: 1, batch index: 150, accuracy: 63.83, train loss: 0.195851\n",
      "Epoch: 1, batch index: 300, accuracy: 78.68, train loss: 0.119082\n",
      "Epoch: 1, batch index: 450, accuracy: 84.49, train loss: 0.126145\n",
      "Epoch: 1, batch index: 600, accuracy: 87.56, train loss: 0.027827\n",
      "Epoch: 1, batch index: 750, accuracy: 89.41, train loss: 0.134452\n",
      "Epoch: 1, batch index: 900, accuracy: 90.75, train loss: 0.190485\n",
      "Epoch: 1, batch index: 938, accuracy: 91.01, train loss: 0.130426\n",
      "Epoch: 2, batch index: 150, accuracy: 97.62, train loss: 0.156348\n",
      "Epoch: 2, batch index: 300, accuracy: 97.8, train loss: 0.057050\n",
      "Epoch: 2, batch index: 450, accuracy: 97.95, train loss: 0.068432\n",
      "Epoch: 2, batch index: 600, accuracy: 98.01, train loss: 0.106931\n",
      "Epoch: 2, batch index: 750, accuracy: 98.09, train loss: 0.050010\n",
      "Epoch: 2, batch index: 900, accuracy: 98.17, train loss: 0.129382\n",
      "Epoch: 2, batch index: 938, accuracy: 98.17, train loss: 0.016357\n",
      "Epoch: 3, batch index: 150, accuracy: 98.92, train loss: 0.022240\n",
      "Epoch: 3, batch index: 300, accuracy: 98.78, train loss: 0.026359\n",
      "Epoch: 3, batch index: 450, accuracy: 98.65, train loss: 0.005315\n",
      "Epoch: 3, batch index: 600, accuracy: 98.67, train loss: 0.025991\n",
      "Epoch: 3, batch index: 750, accuracy: 98.62, train loss: 0.017064\n",
      "Epoch: 3, batch index: 900, accuracy: 98.65, train loss: 0.049800\n",
      "Epoch: 3, batch index: 938, accuracy: 98.66, train loss: 0.000577\n",
      "Epoch: 4, batch index: 150, accuracy: 99.15, train loss: 0.049463\n",
      "Epoch: 4, batch index: 300, accuracy: 99.09, train loss: 0.051910\n",
      "Epoch: 4, batch index: 450, accuracy: 99.08, train loss: 0.052537\n",
      "Epoch: 4, batch index: 600, accuracy: 99.07, train loss: 0.013749\n",
      "Epoch: 4, batch index: 750, accuracy: 99.06, train loss: 0.043218\n",
      "Epoch: 4, batch index: 900, accuracy: 99.06, train loss: 0.019102\n",
      "Epoch: 4, batch index: 938, accuracy: 99.04, train loss: 0.122617\n",
      "Epoch: 5, batch index: 150, accuracy: 99.31, train loss: 0.016741\n",
      "Epoch: 5, batch index: 300, accuracy: 99.26, train loss: 0.002744\n",
      "Epoch: 5, batch index: 450, accuracy: 99.21, train loss: 0.098457\n",
      "Epoch: 5, batch index: 600, accuracy: 99.25, train loss: 0.002276\n",
      "Epoch: 5, batch index: 750, accuracy: 99.21, train loss: 0.060647\n",
      "Epoch: 5, batch index: 900, accuracy: 99.19, train loss: 0.012335\n",
      "Epoch: 5, batch index: 938, accuracy: 99.2, train loss: 0.002036\n",
      "Epoch: 6, batch index: 150, accuracy: 99.41, train loss: 0.004417\n",
      "Epoch: 6, batch index: 300, accuracy: 99.34, train loss: 0.013389\n",
      "Epoch: 6, batch index: 450, accuracy: 99.3, train loss: 0.006492\n",
      "Epoch: 6, batch index: 600, accuracy: 99.31, train loss: 0.006606\n",
      "Epoch: 6, batch index: 750, accuracy: 99.31, train loss: 0.002138\n",
      "Epoch: 6, batch index: 900, accuracy: 99.31, train loss: 0.000560\n",
      "Epoch: 6, batch index: 938, accuracy: 99.31, train loss: 0.000257\n",
      "Epoch: 7, batch index: 150, accuracy: 99.5, train loss: 0.006130\n",
      "Epoch: 7, batch index: 300, accuracy: 99.55, train loss: 0.001059\n",
      "Epoch: 7, batch index: 450, accuracy: 99.54, train loss: 0.002327\n",
      "Epoch: 7, batch index: 600, accuracy: 99.47, train loss: 0.034020\n",
      "Epoch: 7, batch index: 750, accuracy: 99.44, train loss: 0.006836\n",
      "Epoch: 7, batch index: 900, accuracy: 99.44, train loss: 0.002289\n",
      "Epoch: 7, batch index: 938, accuracy: 99.45, train loss: 0.003084\n",
      "Epoch: 8, batch index: 150, accuracy: 99.72, train loss: 0.004551\n",
      "Epoch: 8, batch index: 300, accuracy: 99.64, train loss: 0.005191\n",
      "Epoch: 8, batch index: 450, accuracy: 99.53, train loss: 0.064462\n",
      "Epoch: 8, batch index: 600, accuracy: 99.53, train loss: 0.000764\n",
      "Epoch: 8, batch index: 750, accuracy: 99.54, train loss: 0.000307\n",
      "Epoch: 8, batch index: 900, accuracy: 99.53, train loss: 0.004805\n",
      "Epoch: 8, batch index: 938, accuracy: 99.53, train loss: 0.000566\n",
      "Epoch: 9, batch index: 150, accuracy: 99.66, train loss: 0.002746\n",
      "Epoch: 9, batch index: 300, accuracy: 99.68, train loss: 0.004725\n",
      "Epoch: 9, batch index: 450, accuracy: 99.65, train loss: 0.001329\n",
      "Epoch: 9, batch index: 600, accuracy: 99.57, train loss: 0.017113\n",
      "Epoch: 9, batch index: 750, accuracy: 99.56, train loss: 0.000211\n",
      "Epoch: 9, batch index: 900, accuracy: 99.56, train loss: 0.003395\n",
      "Epoch: 9, batch index: 938, accuracy: 99.55, train loss: 0.000203\n",
      "Epoch: 10, batch index: 150, accuracy: 99.59, train loss: 0.001782\n",
      "Epoch: 10, batch index: 300, accuracy: 99.64, train loss: 0.010194\n",
      "Epoch: 10, batch index: 450, accuracy: 99.66, train loss: 0.001054\n",
      "Epoch: 10, batch index: 600, accuracy: 99.63, train loss: 0.000691\n",
      "Epoch: 10, batch index: 750, accuracy: 99.63, train loss: 0.003022\n",
      "Epoch: 10, batch index: 900, accuracy: 99.6, train loss: 0.011831\n",
      "Epoch: 10, batch index: 938, accuracy: 99.6, train loss: 0.000219\n"
     ]
    }
   ],
   "source": [
    "train_data, test_data = get_data(64, 1000)\n",
    "model = Model_1()\n",
    "optimizer = optim.SGD(model.parameters(), lr=0.01, momentum=0.9)\n",
    "loss_func = nn.CrossEntropyLoss()\n",
    "loss_arr = []\n",
    "accuracy_arr = []\n",
    "\n",
    "for epoch in range(1, 11):\n",
    "    loss, accuracy = train_model(model, loss_func, epoch, train_data, optimizer)\n",
    "    loss_arr.append(loss)\n",
    "    accuracy_arr.append(accuracy)"
   ]
  },
  {
   "cell_type": "markdown",
   "id": "79586690",
   "metadata": {},
   "source": [
    "<h3> Accuracy Plot <h3>"
   ]
  },
  {
   "cell_type": "code",
   "execution_count": 102,
   "id": "d0b308b3",
   "metadata": {},
   "outputs": [],
   "source": [
    "class Model_2(nn.Module):\n",
    "    def __init__(self):\n",
    "        super(Model_2, self).__init__()\n",
    "        self.conv_1 = nn.Conv2d(1, 32, 5)\n",
    "        self.conv_2 = nn.Conv2d(32, 64, 5)\n",
    "        self.conv3 = nn.Conv2d(64, 64, 5)\n",
    "        self.fc1 = nn.Linear(1024, 256)\n",
    "        self.fc2 = nn.Linear(256, 10)\n",
    "    def forward(self, x):\n",
    "        x = F.relu(self.conv_1(x))\n",
    "        x = F.relu(F.max_pool2d(self.conv_2(x), 2))\n",
    "        x = F.dropout(x, p=0.5, training=self.training)\n",
    "        x = F.relu(F.max_pool2d(self.conv3(x),2))\n",
    "        x = F.dropout(x, p=0.5, training=self.training)\n",
    "        x = x.view(x.size()[0], -1)\n",
    "        x = F.relu(self.fc1(x))\n",
    "        x = F.dropout(x, training=self.training)\n",
    "        x = self.fc2(x)\n",
    "        return F.log_softmax(x, dim=1)"
   ]
  },
  {
   "cell_type": "code",
   "execution_count": 103,
   "id": "30c876d9",
   "metadata": {},
   "outputs": [
    {
     "name": "stdout",
     "output_type": "stream",
     "text": [
      "Epoch: 1, batch index: 150, accuracy: 65.98, train loss: 0.418483\n",
      "Epoch: 1, batch index: 300, accuracy: 78.44, train loss: 0.161215\n",
      "Epoch: 1, batch index: 450, accuracy: 83.52, train loss: 0.229257\n",
      "Epoch: 1, batch index: 600, accuracy: 86.32, train loss: 0.227224\n",
      "Epoch: 1, batch index: 750, accuracy: 88.17, train loss: 0.115019\n",
      "Epoch: 1, batch index: 900, accuracy: 89.48, train loss: 0.062563\n",
      "Epoch: 1, batch index: 938, accuracy: 89.75, train loss: 0.236111\n",
      "Epoch: 2, batch index: 150, accuracy: 96.17, train loss: 0.065634\n",
      "Epoch: 2, batch index: 300, accuracy: 96.35, train loss: 0.099459\n",
      "Epoch: 2, batch index: 450, accuracy: 96.57, train loss: 0.096777\n",
      "Epoch: 2, batch index: 600, accuracy: 96.73, train loss: 0.015801\n",
      "Epoch: 2, batch index: 750, accuracy: 96.78, train loss: 0.039902\n",
      "Epoch: 2, batch index: 900, accuracy: 96.83, train loss: 0.078032\n",
      "Epoch: 2, batch index: 938, accuracy: 96.85, train loss: 0.123385\n",
      "Epoch: 3, batch index: 150, accuracy: 97.32, train loss: 0.074456\n",
      "Epoch: 3, batch index: 300, accuracy: 97.38, train loss: 0.122004\n",
      "Epoch: 3, batch index: 450, accuracy: 97.47, train loss: 0.047568\n",
      "Epoch: 3, batch index: 600, accuracy: 97.6, train loss: 0.029513\n",
      "Epoch: 3, batch index: 750, accuracy: 97.57, train loss: 0.026271\n",
      "Epoch: 3, batch index: 900, accuracy: 97.59, train loss: 0.203028\n",
      "Epoch: 3, batch index: 938, accuracy: 97.59, train loss: 0.250138\n",
      "Epoch: 4, batch index: 150, accuracy: 97.88, train loss: 0.041781\n",
      "Epoch: 4, batch index: 300, accuracy: 97.91, train loss: 0.086745\n",
      "Epoch: 4, batch index: 450, accuracy: 97.86, train loss: 0.026888\n",
      "Epoch: 4, batch index: 600, accuracy: 97.88, train loss: 0.074034\n",
      "Epoch: 4, batch index: 750, accuracy: 97.91, train loss: 0.170689\n",
      "Epoch: 4, batch index: 900, accuracy: 97.9, train loss: 0.005958\n",
      "Epoch: 4, batch index: 938, accuracy: 97.93, train loss: 0.024548\n",
      "Epoch: 5, batch index: 150, accuracy: 98.36, train loss: 0.005133\n",
      "Epoch: 5, batch index: 300, accuracy: 98.09, train loss: 0.022051\n",
      "Epoch: 5, batch index: 450, accuracy: 98.18, train loss: 0.146262\n",
      "Epoch: 5, batch index: 600, accuracy: 98.15, train loss: 0.032089\n",
      "Epoch: 5, batch index: 750, accuracy: 98.19, train loss: 0.011676\n",
      "Epoch: 5, batch index: 900, accuracy: 98.17, train loss: 0.012657\n",
      "Epoch: 5, batch index: 938, accuracy: 98.16, train loss: 0.006622\n",
      "Epoch: 6, batch index: 150, accuracy: 98.38, train loss: 0.085843\n",
      "Epoch: 6, batch index: 300, accuracy: 98.34, train loss: 0.064303\n",
      "Epoch: 6, batch index: 450, accuracy: 98.36, train loss: 0.083249\n",
      "Epoch: 6, batch index: 600, accuracy: 98.41, train loss: 0.017588\n",
      "Epoch: 6, batch index: 750, accuracy: 98.39, train loss: 0.063788\n",
      "Epoch: 6, batch index: 900, accuracy: 98.41, train loss: 0.009235\n",
      "Epoch: 6, batch index: 938, accuracy: 98.41, train loss: 0.008846\n",
      "Epoch: 7, batch index: 150, accuracy: 98.3, train loss: 0.150790\n",
      "Epoch: 7, batch index: 300, accuracy: 98.42, train loss: 0.017113\n",
      "Epoch: 7, batch index: 450, accuracy: 98.48, train loss: 0.010290\n",
      "Epoch: 7, batch index: 600, accuracy: 98.47, train loss: 0.009392\n",
      "Epoch: 7, batch index: 750, accuracy: 98.53, train loss: 0.012812\n",
      "Epoch: 7, batch index: 900, accuracy: 98.51, train loss: 0.055814\n",
      "Epoch: 7, batch index: 938, accuracy: 98.52, train loss: 0.021804\n",
      "Epoch: 8, batch index: 150, accuracy: 98.66, train loss: 0.029391\n",
      "Epoch: 8, batch index: 300, accuracy: 98.57, train loss: 0.100153\n",
      "Epoch: 8, batch index: 450, accuracy: 98.56, train loss: 0.028995\n",
      "Epoch: 8, batch index: 600, accuracy: 98.61, train loss: 0.016735\n",
      "Epoch: 8, batch index: 750, accuracy: 98.62, train loss: 0.050518\n",
      "Epoch: 8, batch index: 900, accuracy: 98.61, train loss: 0.120185\n",
      "Epoch: 8, batch index: 938, accuracy: 98.61, train loss: 0.007644\n",
      "Epoch: 9, batch index: 150, accuracy: 98.69, train loss: 0.013791\n",
      "Epoch: 9, batch index: 300, accuracy: 98.69, train loss: 0.081721\n",
      "Epoch: 9, batch index: 450, accuracy: 98.71, train loss: 0.054668\n",
      "Epoch: 9, batch index: 600, accuracy: 98.72, train loss: 0.088468\n",
      "Epoch: 9, batch index: 750, accuracy: 98.74, train loss: 0.014195\n",
      "Epoch: 9, batch index: 900, accuracy: 98.73, train loss: 0.005381\n",
      "Epoch: 9, batch index: 938, accuracy: 98.73, train loss: 0.068786\n",
      "Epoch: 10, batch index: 150, accuracy: 98.52, train loss: 0.164596\n",
      "Epoch: 10, batch index: 300, accuracy: 98.76, train loss: 0.048346\n",
      "Epoch: 10, batch index: 450, accuracy: 98.68, train loss: 0.081562\n",
      "Epoch: 10, batch index: 600, accuracy: 98.71, train loss: 0.003701\n",
      "Epoch: 10, batch index: 750, accuracy: 98.72, train loss: 0.007539\n",
      "Epoch: 10, batch index: 900, accuracy: 98.73, train loss: 0.033265\n",
      "Epoch: 10, batch index: 938, accuracy: 98.73, train loss: 0.098567\n"
     ]
    }
   ],
   "source": [
    "train_data, test_data = get_data(64, 1000)\n",
    "model = Model_2()\n",
    "optimizer = optim.SGD(model.parameters(), lr=0.01, momentum=0.9)\n",
    "loss_func = nn.CrossEntropyLoss()\n",
    "loss_arr_2 = []\n",
    "accuracy_arr_2 = []\n",
    "\n",
    "for epoch in range(1, 11):\n",
    "    loss, accuracy = train_model(model, loss_func, epoch, train_data, optimizer)\n",
    "    loss_arr_2.append(loss)\n",
    "    accuracy_arr_2.append(accuracy)"
   ]
  },
  {
   "cell_type": "code",
   "execution_count": 104,
   "id": "be7c8ed9",
   "metadata": {},
   "outputs": [
    {
     "data": {
      "image/png": "[encoded data removed]",
      "text/plain": [
       "<Figure size 640x480 with 1 Axes>"
      ]
     },
     "metadata": {},
     "output_type": "display_data"
    }
   ],
   "source": [
    "plt.plot(np.arange(1,11,1), loss_arr)\n",
    "plt.plot(np.arange(1,11,1), loss_arr_2, color = \"r\")\n",
    "plt.show()"
   ]
  },
  {
   "cell_type": "code",
   "execution_count": null,
   "id": "a33f1975",
   "metadata": {},
   "outputs": [],
   "source": []
  }
 ],
 "metadata": {
  "kernelspec": {
   "display_name": "Python 3 (ipykernel)",
   "language": "python",
   "name": "python3"
  },
  "language_info": {
   "codemirror_mode": {
    "name": "ipython",
    "version": 3
   },
   "file_extension": ".py",
   "mimetype": "text/x-python",
   "name": "python",
   "nbconvert_exporter": "python",
   "pygments_lexer": "ipython3",
   "version": "3.9.13"
  }
 },
 "nbformat": 4,
 "nbformat_minor": 5
}
